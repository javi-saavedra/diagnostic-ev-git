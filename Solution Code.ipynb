{
 "cells": [
  {
   "cell_type": "markdown",
   "id": "411d6b0b",
   "metadata": {},
   "source": [
    "## Librerías 📚\n",
    "\n",
    "A continuación se importan las librerías que se utilizarán para este ejercicio"
   ]
  },
  {
   "cell_type": "code",
   "execution_count": 1,
   "id": "c497381b",
   "metadata": {},
   "outputs": [],
   "source": [
    "import re\n",
    "import pandas as pd"
   ]
  },
  {
   "cell_type": "markdown",
   "id": "2bea8be5",
   "metadata": {},
   "source": [
    "# 🦆 Top 10 tweets más retweeted "
   ]
  },
  {
   "cell_type": "code",
   "execution_count": 2,
   "id": "47e70ed8",
   "metadata": {},
   "outputs": [],
   "source": [
    "def top_retweeted(df):\n",
    "    sorted_by_retweet_count = df.sort_values(by='retweetCount', ascending=False)\n",
    "    return sorted_by_retweet_count[['url', 'content', 'user', 'retweetCount']].head(10)"
   ]
  },
  {
   "cell_type": "code",
   "execution_count": null,
   "id": "5559e1d9",
   "metadata": {},
   "outputs": [],
   "source": []
  }
 ],
 "metadata": {
  "kernelspec": {
   "display_name": "Python 3",
   "language": "python",
   "name": "python3"
  },
  "language_info": {
   "codemirror_mode": {
    "name": "ipython",
    "version": 3
   },
   "file_extension": ".py",
   "mimetype": "text/x-python",
   "name": "python",
   "nbconvert_exporter": "python",
   "pygments_lexer": "ipython3",
   "version": "3.9.10"
  }
 },
 "nbformat": 4,
 "nbformat_minor": 5
}
