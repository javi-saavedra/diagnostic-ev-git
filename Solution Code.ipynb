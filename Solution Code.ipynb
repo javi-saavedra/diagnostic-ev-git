{
 "cells": [
  {
   "cell_type": "markdown",
   "id": "617bfeab",
   "metadata": {},
   "source": [
    "## Librerías 📚\n",
    "\n",
    "A continuación se importan las librerías que se utilizarán para este ejercicio"
   ]
  },
  {
   "cell_type": "code",
   "execution_count": 1,
   "id": "1d22b277",
   "metadata": {},
   "outputs": [],
   "source": [
    "import re\n",
    "import pandas as pd"
   ]
  },
  {
   "cell_type": "markdown",
   "id": "a91d237f",
   "metadata": {},
   "source": []
  },
  {
   "cell_type": "code",
   "execution_count": null,
   "id": "e9b5bad9",
   "metadata": {},
   "outputs": [],
   "source": []
  }
 ],
 "metadata": {
  "kernelspec": {
   "display_name": "Python 3",
   "language": "python",
   "name": "python3"
  },
  "language_info": {
   "codemirror_mode": {
    "name": "ipython",
    "version": 3
   },
   "file_extension": ".py",
   "mimetype": "text/x-python",
   "name": "python",
   "nbconvert_exporter": "python",
   "pygments_lexer": "ipython3",
   "version": "3.9.10"
  }
 },
 "nbformat": 4,
 "nbformat_minor": 5
}
