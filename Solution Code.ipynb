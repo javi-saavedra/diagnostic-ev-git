{
 "cells": [
  {
   "cell_type": "markdown",
   "id": "ef6bd05d",
   "metadata": {},
   "source": [
    "## Librerías 📚\n",
    "\n",
    "A continuación se importan las librerías que se utilizarán para este ejercicio"
   ]
  },
  {
   "cell_type": "code",
   "execution_count": 1,
   "id": "4d765a2f",
   "metadata": {},
   "outputs": [],
   "source": [
    "import re\n",
    "import pandas as pd"
   ]
  },
  {
   "cell_type": "markdown",
   "id": "f42b309c",
   "metadata": {},
   "source": [
    "# 🦆 Top 10 tweets más retweeted "
   ]
  },
  {
   "cell_type": "code",
   "execution_count": 2,
   "id": "76fa4b29",
   "metadata": {},
   "outputs": [],
   "source": [
    "def top_retweeted(df):\n",
    "    sorted_by_retweet_count = df.sort_values(by='retweetCount', ascending=False)\n",
    "    return sorted_by_retweet_count[['url', 'content', 'user', 'retweetCount']].head(10)"
   ]
  },
  {
   "cell_type": "markdown",
   "id": "42bccacd",
   "metadata": {},
   "source": [
    "# 🦆 Top 10 usuarios en función a la cantidad de tweets que emitieron"
   ]
  },
  {
   "cell_type": "code",
   "execution_count": null,
   "id": "f2e73148",
   "metadata": {},
   "outputs": [],
   "source": [
    "def get_user_id(row):\n",
    "    return row['user']['id']"
   ]
  },
  {
   "cell_type": "code",
   "execution_count": null,
   "id": "9b63a0f1",
   "metadata": {},
   "outputs": [],
   "source": [
    "def get_username(row):\n",
    "    return row['user']['username']"
   ]
  },
  {
   "cell_type": "code",
   "execution_count": null,
   "id": "f9f7ae2a",
   "metadata": {},
   "outputs": [],
   "source": [
    "def get_username_by_user_id(row, df):\n",
    "    return df[df['user_id'] == row['user_id']].iloc[0]['username']"
   ]
  },
  {
   "cell_type": "code",
   "execution_count": null,
   "id": "e9531db5",
   "metadata": {},
   "outputs": [],
   "source": [
    "def top_users(df):\n",
    "    df['user_id'] = df.apply(lambda row: get_user_id(row), axis=1)\n",
    "    df['username'] = df.apply(lambda row: get_username(row), axis=1)\n",
    "    \n",
    "    grouped_by_user = df.groupby(by=[\"user_id\"])\n",
    "    \n",
    "    # get top 10 users id\n",
    "    top_user_id = grouped_by_user['id'].count().sort_values(ascending=False).head(10)\n",
    "    \n",
    "    top_user_id = top_user_id.to_frame()\n",
    "    top_user_id.reset_index(inplace=True)\n",
    "    top_user_id.rename(columns={\"id\":\"count\"}, inplace=True)\n",
    "    \n",
    "    top_user_id['username'] = top_user_id.apply(lambda row: get_username_by_user_id(row, df), axis=1)\n",
    "    \n",
    "    return top_user_id"
   ]
  },
  {
   "cell_type": "code",
   "execution_count": null,
   "id": "2d4103d6",
   "metadata": {},
   "outputs": [],
   "source": []
  }
 ],
 "metadata": {
  "kernelspec": {
   "display_name": "Python 3",
   "language": "python",
   "name": "python3"
  },
  "language_info": {
   "codemirror_mode": {
    "name": "ipython",
    "version": 3
   },
   "file_extension": ".py",
   "mimetype": "text/x-python",
   "name": "python",
   "nbconvert_exporter": "python",
   "pygments_lexer": "ipython3",
   "version": "3.9.10"
  }
 },
 "nbformat": 4,
 "nbformat_minor": 5
}
