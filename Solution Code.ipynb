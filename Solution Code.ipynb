{
 "cells": [
  {
   "cell_type": "markdown",
   "id": "e674b70d",
   "metadata": {},
   "source": [
    "## Librerías 📚\n",
    "\n",
    "A continuación se importan las librerías que se utilizarán para este ejercicio"
   ]
  },
  {
   "cell_type": "code",
   "execution_count": 1,
   "id": "a38a8ee3",
   "metadata": {},
   "outputs": [],
   "source": [
    "import re\n",
    "import pandas as pd"
   ]
  },
  {
   "cell_type": "markdown",
   "id": "16a10e9f",
   "metadata": {},
   "source": [
    "# 🦆 Top 10 tweets más retweeted "
   ]
  },
  {
   "cell_type": "code",
   "execution_count": 2,
   "id": "be1edb15",
   "metadata": {},
   "outputs": [],
   "source": [
    "def top_retweeted(df):\n",
    "    sorted_by_retweet_count = df.sort_values(by='retweetCount', ascending=False)\n",
    "    return sorted_by_retweet_count[['url', 'content', 'user', 'retweetCount']].head(10)"
   ]
  },
  {
   "cell_type": "markdown",
   "id": "172ac867",
   "metadata": {},
   "source": [
    "# 🦆 Top 10 usuarios en función a la cantidad de tweets que emitieron"
   ]
  },
  {
   "cell_type": "code",
   "execution_count": null,
   "id": "ed059522",
   "metadata": {},
   "outputs": [],
   "source": [
    "def get_user_id(row):\n",
    "    return row['user']['id']"
   ]
  },
  {
   "cell_type": "code",
   "execution_count": null,
   "id": "2407605f",
   "metadata": {},
   "outputs": [],
   "source": [
    "def get_username(row):\n",
    "    return row['user']['username']"
   ]
  },
  {
   "cell_type": "code",
   "execution_count": null,
   "id": "0199aa80",
   "metadata": {},
   "outputs": [],
   "source": [
    "def get_username_by_user_id(row, df):\n",
    "    return df[df['user_id'] == row['user_id']].iloc[0]['username']"
   ]
  },
  {
   "cell_type": "code",
   "execution_count": null,
   "id": "2013efdc",
   "metadata": {},
   "outputs": [],
   "source": [
    "def top_users(df):\n",
    "    df['user_id'] = df.apply(lambda row: get_user_id(row), axis=1)\n",
    "    df['username'] = df.apply(lambda row: get_username(row), axis=1)\n",
    "    \n",
    "    grouped_by_user = df.groupby(by=[\"user_id\"])\n",
    "    \n",
    "    # get top 10 users id\n",
    "    top_user_id = grouped_by_user['id'].count().sort_values(ascending=False).head(10)\n",
    "    \n",
    "    top_user_id = top_user_id.to_frame()\n",
    "    top_user_id.reset_index(inplace=True)\n",
    "    top_user_id.rename(columns={\"id\":\"count\"}, inplace=True)\n",
    "    \n",
    "    top_user_id['username'] = top_user_id.apply(lambda row: get_username_by_user_id(row, df), axis=1)\n",
    "    \n",
    "    return top_user_id"
   ]
  },
  {
   "cell_type": "markdown",
   "id": "36f2ec73",
   "metadata": {},
   "source": [
    "# 🦆 Top 10 días donde hay más tweets\n"
   ]
  },
  {
   "cell_type": "code",
   "execution_count": null,
   "id": "2fd2a78c",
   "metadata": {},
   "outputs": [],
   "source": [
    "def get_day(row):\n",
    "    return row['date'].date()"
   ]
  },
  {
   "cell_type": "code",
   "execution_count": null,
   "id": "3e4e2d0a",
   "metadata": {},
   "outputs": [],
   "source": [
    "def top_days(df):\n",
    "    df['day'] = df.apply(lambda row: get_day(row), axis=1)\n",
    "    \n",
    "    grouped_by_day = df.groupby(by=[\"day\"])\n",
    "    top_days = grouped_by_day['id'].count().sort_values(ascending=False).head(10)\n",
    "    \n",
    "    top_days = top_days.to_frame()\n",
    "    top_days.reset_index(inplace=True)\n",
    "    \n",
    "    return top_days"
   ]
  },
  {
   "cell_type": "markdown",
   "id": "f18568f9",
   "metadata": {},
   "source": [
    "# 🦆 Top 10 hashtags más usados\n"
   ]
  },
  {
   "cell_type": "code",
   "execution_count": null,
   "id": "3905365c",
   "metadata": {},
   "outputs": [],
   "source": [
    "def get_hashtags(row):\n",
    "    return re.findall(r\"#\\w+\", row['content'])"
   ]
  },
  {
   "cell_type": "code",
   "execution_count": null,
   "id": "64a3975c",
   "metadata": {},
   "outputs": [],
   "source": [
    "def top_hashtags(df):\n",
    "    df['hashtags'] = df.apply(lambda row: get_hashtags(row), axis=1)\n",
    "    hashtag_list = [item for i, sublist in df[\"hashtags\"].iteritems() for item in sublist]\n",
    "    \n",
    "    df_hashtags = pd.DataFrame(hashtag_list, columns=['hashtag'])\n",
    "    \n",
    "    occurrences = df_hashtags.value_counts().to_frame()\n",
    "    occurrences.reset_index(inplace=True)\n",
    "    occurrences.rename(columns={0:\"count\"}, inplace=True)\n",
    "    \n",
    "    return occurrences.head(10)"
   ]
  }
 ],
 "metadata": {
  "kernelspec": {
   "display_name": "Python 3",
   "language": "python",
   "name": "python3"
  },
  "language_info": {
   "codemirror_mode": {
    "name": "ipython",
    "version": 3
   },
   "file_extension": ".py",
   "mimetype": "text/x-python",
   "name": "python",
   "nbconvert_exporter": "python",
   "pygments_lexer": "ipython3",
   "version": "3.9.10"
  }
 },
 "nbformat": 4,
 "nbformat_minor": 5
}
